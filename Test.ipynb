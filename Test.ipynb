{
  "nbformat": 4,
  "nbformat_minor": 0,
  "metadata": {
    "colab": {
      "provenance": [],
      "authorship_tag": "ABX9TyOeXk44wIfxXV2RySDijdT/",
      "include_colab_link": true
    },
    "kernelspec": {
      "name": "python3",
      "display_name": "Python 3"
    },
    "language_info": {
      "name": "python"
    }
  },
  "cells": [
    {
      "cell_type": "markdown",
      "metadata": {
        "id": "view-in-github",
        "colab_type": "text"
      },
      "source": [
        "<a href=\"https://colab.research.google.com/github/eduardosaldaren/datasciencedemo/blob/main/Test.ipynb\" target=\"_parent\"><img src=\"https://colab.research.google.com/assets/colab-badge.svg\" alt=\"Open In Colab\"/></a>"
      ]
    },
    {
      "cell_type": "markdown",
      "source": [
        "## Laboratory"
      ],
      "metadata": {
        "id": "rqOwKPNFOG5s"
      }
    },
    {
      "cell_type": "code",
      "source": [
        "!pip install numpy\n",
        "!pip install pandas"
      ],
      "metadata": {
        "colab": {
          "base_uri": "https://localhost:8080/"
        },
        "id": "eCj2IWOKVAKK",
        "outputId": "1f93aef9-6bf4-441b-c9ad-8a4d80a317cd"
      },
      "execution_count": 3,
      "outputs": [
        {
          "output_type": "stream",
          "name": "stdout",
          "text": [
            "Requirement already satisfied: numpy in /usr/local/lib/python3.10/dist-packages (1.25.2)\n",
            "Requirement already satisfied: pandas in /usr/local/lib/python3.10/dist-packages (2.0.3)\n",
            "Requirement already satisfied: python-dateutil>=2.8.2 in /usr/local/lib/python3.10/dist-packages (from pandas) (2.8.2)\n",
            "Requirement already satisfied: pytz>=2020.1 in /usr/local/lib/python3.10/dist-packages (from pandas) (2023.4)\n",
            "Requirement already satisfied: tzdata>=2022.1 in /usr/local/lib/python3.10/dist-packages (from pandas) (2024.1)\n",
            "Requirement already satisfied: numpy>=1.21.0 in /usr/local/lib/python3.10/dist-packages (from pandas) (1.25.2)\n",
            "Requirement already satisfied: six>=1.5 in /usr/local/lib/python3.10/dist-packages (from python-dateutil>=2.8.2->pandas) (1.16.0)\n"
          ]
        }
      ]
    },
    {
      "cell_type": "markdown",
      "source": [
        "### Part 1"
      ],
      "metadata": {
        "id": "3WtBbpElOI7N"
      }
    },
    {
      "cell_type": "code",
      "source": [
        "import numpy as np\n",
        "import pandas as pd\n",
        "\n"
      ],
      "metadata": {
        "id": "E9lEsvQsUvsm"
      },
      "execution_count": 4,
      "outputs": []
    },
    {
      "cell_type": "markdown",
      "source": [
        "### Part 2"
      ],
      "metadata": {
        "id": "_YUi46BPOLEP"
      }
    },
    {
      "cell_type": "code",
      "source": [
        "data = [[3,4,5,],\n",
        "        [6,9,8],\n",
        "        [10,12,20]]\n",
        "\n",
        "columns = ['year 1', 'year 2', 'year 3']\n",
        "\n",
        "db = pd.DataFrame (data = data, columns = columns)"
      ],
      "metadata": {
        "id": "n4gwiTcWVWej"
      },
      "execution_count": 5,
      "outputs": []
    },
    {
      "cell_type": "code",
      "source": [
        "print(db)"
      ],
      "metadata": {
        "colab": {
          "base_uri": "https://localhost:8080/"
        },
        "id": "hV3ArI4TV4U1",
        "outputId": "98fba7ba-ac98-4c6d-860e-59aa9ec6c7b3"
      },
      "execution_count": 6,
      "outputs": [
        {
          "output_type": "stream",
          "name": "stdout",
          "text": [
            "   year 1  year 2  year 3\n",
            "0       3       4       5\n",
            "1       6       9       8\n",
            "2      10      12      20\n"
          ]
        }
      ]
    },
    {
      "cell_type": "markdown",
      "source": [
        "## Part 3"
      ],
      "metadata": {
        "id": "8o_T8wBtYWbT"
      }
    },
    {
      "cell_type": "code",
      "source": [
        "path = \"https://raw.githubusercontent.com/nytimes/covid-19-data/master/us-states.csv\"\n",
        "\n",
        "db_covid = pd.read_csv (path)\n",
        "print(db_covid.head(10))"
      ],
      "metadata": {
        "colab": {
          "base_uri": "https://localhost:8080/"
        },
        "id": "HVUfCKh9YXvV",
        "outputId": "0c0f3748-5f18-41f1-f4e5-b8bb847d456f"
      },
      "execution_count": 7,
      "outputs": [
        {
          "output_type": "stream",
          "name": "stdout",
          "text": [
            "         date       state  fips  cases  deaths\n",
            "0  2020-01-21  Washington    53      1       0\n",
            "1  2020-01-22  Washington    53      1       0\n",
            "2  2020-01-23  Washington    53      1       0\n",
            "3  2020-01-24    Illinois    17      1       0\n",
            "4  2020-01-24  Washington    53      1       0\n",
            "5  2020-01-25  California     6      1       0\n",
            "6  2020-01-25    Illinois    17      1       0\n",
            "7  2020-01-25  Washington    53      1       0\n",
            "8  2020-01-26     Arizona     4      1       0\n",
            "9  2020-01-26  California     6      2       0\n"
          ]
        }
      ]
    }
  ]
}